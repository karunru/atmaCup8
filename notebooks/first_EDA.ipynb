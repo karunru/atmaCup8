{
 "cells": [
  {
   "cell_type": "code",
   "execution_count": 9,
   "metadata": {},
   "outputs": [],
   "source": [
    "import cudf\n",
    "import pandas as pd\n",
    "import numpy as np\n",
    "import matplotlib.pyplot as plt\n",
    "import sys\n",
    "import os\n",
    "from pandas_profiling import ProfileReport\n",
    "pd.options.display.max_columns = None"
   ]
  },
  {
   "cell_type": "code",
   "execution_count": 2,
   "metadata": {},
   "outputs": [],
   "source": [
    "sys.path.append(os.path.abspath(\"..\"))\n",
    "from src.utils import plot_venn2"
   ]
  },
  {
   "cell_type": "code",
   "execution_count": 3,
   "metadata": {},
   "outputs": [
    {
     "name": "stderr",
     "output_type": "stream",
     "text": [
      "/home/karunru/.pyenv/versions/miniconda3-4.7.12/envs/rapids-0.16/lib/python3.7/site-packages/cudf/io/feather.py:16: UserWarning: Using CPU via PyArrow to read feather dataset, this may be GPU accelerated in the future\n",
      "  \"Using CPU via PyArrow to read feather dataset, this may \"\n"
     ]
    },
    {
     "data": {
      "text/html": [
       "<div>\n",
       "<style scoped>\n",
       "    .dataframe tbody tr th:only-of-type {\n",
       "        vertical-align: middle;\n",
       "    }\n",
       "\n",
       "    .dataframe tbody tr th {\n",
       "        vertical-align: top;\n",
       "    }\n",
       "\n",
       "    .dataframe thead th {\n",
       "        text-align: right;\n",
       "    }\n",
       "</style>\n",
       "<table border=\"1\" class=\"dataframe\">\n",
       "  <thead>\n",
       "    <tr style=\"text-align: right;\">\n",
       "      <th></th>\n",
       "      <th>Name</th>\n",
       "      <th>Platform</th>\n",
       "      <th>Year_of_Release</th>\n",
       "      <th>Genre</th>\n",
       "      <th>Publisher</th>\n",
       "      <th>NA_Sales</th>\n",
       "      <th>EU_Sales</th>\n",
       "      <th>JP_Sales</th>\n",
       "      <th>Other_Sales</th>\n",
       "      <th>Global_Sales</th>\n",
       "      <th>Critic_Score</th>\n",
       "      <th>Critic_Count</th>\n",
       "      <th>User_Score</th>\n",
       "      <th>User_Count</th>\n",
       "      <th>Developer</th>\n",
       "      <th>Rating</th>\n",
       "    </tr>\n",
       "  </thead>\n",
       "  <tbody>\n",
       "    <tr>\n",
       "      <th>0</th>\n",
       "      <td>LEGO Batman: The Videogame</td>\n",
       "      <td>Wii</td>\n",
       "      <td>&lt;NA&gt;</td>\n",
       "      <td>Action</td>\n",
       "      <td>Warner Bros. Interactive Entertainment</td>\n",
       "      <td>180</td>\n",
       "      <td>97</td>\n",
       "      <td>0</td>\n",
       "      <td>28</td>\n",
       "      <td>306</td>\n",
       "      <td>74.0</td>\n",
       "      <td>17.0</td>\n",
       "      <td>7.9</td>\n",
       "      <td>22.0</td>\n",
       "      <td>Traveller's Tales</td>\n",
       "      <td>E10+</td>\n",
       "    </tr>\n",
       "    <tr>\n",
       "      <th>1</th>\n",
       "      <td>LEGO Indiana Jones: The Original Adventures</td>\n",
       "      <td>Wii</td>\n",
       "      <td>&lt;NA&gt;</td>\n",
       "      <td>Action</td>\n",
       "      <td>LucasArts</td>\n",
       "      <td>151</td>\n",
       "      <td>61</td>\n",
       "      <td>0</td>\n",
       "      <td>21</td>\n",
       "      <td>234</td>\n",
       "      <td>78.0</td>\n",
       "      <td>22.0</td>\n",
       "      <td>6.6</td>\n",
       "      <td>28.0</td>\n",
       "      <td>Traveller's Tales</td>\n",
       "      <td>E10+</td>\n",
       "    </tr>\n",
       "    <tr>\n",
       "      <th>2</th>\n",
       "      <td>LEGO Batman: The Videogame</td>\n",
       "      <td>PSP</td>\n",
       "      <td>&lt;NA&gt;</td>\n",
       "      <td>Action</td>\n",
       "      <td>Warner Bros. Interactive Entertainment</td>\n",
       "      <td>56</td>\n",
       "      <td>44</td>\n",
       "      <td>0</td>\n",
       "      <td>27</td>\n",
       "      <td>128</td>\n",
       "      <td>73.0</td>\n",
       "      <td>5.0</td>\n",
       "      <td>7.4</td>\n",
       "      <td>10.0</td>\n",
       "      <td>Traveller's Tales</td>\n",
       "      <td>E10+</td>\n",
       "    </tr>\n",
       "    <tr>\n",
       "      <th>3</th>\n",
       "      <td>Combat</td>\n",
       "      <td>2600</td>\n",
       "      <td>&lt;NA&gt;</td>\n",
       "      <td>Action</td>\n",
       "      <td>Atari</td>\n",
       "      <td>117</td>\n",
       "      <td>7</td>\n",
       "      <td>0</td>\n",
       "      <td>1</td>\n",
       "      <td>125</td>\n",
       "      <td>&lt;NA&gt;</td>\n",
       "      <td>&lt;NA&gt;</td>\n",
       "      <td>&lt;NA&gt;</td>\n",
       "      <td>&lt;NA&gt;</td>\n",
       "      <td>&lt;NA&gt;</td>\n",
       "      <td>&lt;NA&gt;</td>\n",
       "    </tr>\n",
       "    <tr>\n",
       "      <th>4</th>\n",
       "      <td>LEGO Harry Potter: Years 5-7</td>\n",
       "      <td>Wii</td>\n",
       "      <td>&lt;NA&gt;</td>\n",
       "      <td>Action</td>\n",
       "      <td>Warner Bros. Interactive Entertainment</td>\n",
       "      <td>69</td>\n",
       "      <td>42</td>\n",
       "      <td>0</td>\n",
       "      <td>12</td>\n",
       "      <td>124</td>\n",
       "      <td>76.0</td>\n",
       "      <td>8.0</td>\n",
       "      <td>7.8</td>\n",
       "      <td>13.0</td>\n",
       "      <td>Traveller's Tales</td>\n",
       "      <td>E10+</td>\n",
       "    </tr>\n",
       "  </tbody>\n",
       "</table>\n",
       "</div>"
      ],
      "text/plain": [
       "                                          Name Platform Year_of_Release  \\\n",
       "0                   LEGO Batman: The Videogame      Wii            <NA>   \n",
       "1  LEGO Indiana Jones: The Original Adventures      Wii            <NA>   \n",
       "2                   LEGO Batman: The Videogame      PSP            <NA>   \n",
       "3                                       Combat     2600            <NA>   \n",
       "4                 LEGO Harry Potter: Years 5-7      Wii            <NA>   \n",
       "\n",
       "    Genre                               Publisher  NA_Sales  EU_Sales  \\\n",
       "0  Action  Warner Bros. Interactive Entertainment       180        97   \n",
       "1  Action                               LucasArts       151        61   \n",
       "2  Action  Warner Bros. Interactive Entertainment        56        44   \n",
       "3  Action                                   Atari       117         7   \n",
       "4  Action  Warner Bros. Interactive Entertainment        69        42   \n",
       "\n",
       "   JP_Sales  Other_Sales  Global_Sales Critic_Score Critic_Count User_Score  \\\n",
       "0         0           28           306         74.0         17.0        7.9   \n",
       "1         0           21           234         78.0         22.0        6.6   \n",
       "2         0           27           128         73.0          5.0        7.4   \n",
       "3         0            1           125         <NA>         <NA>       <NA>   \n",
       "4         0           12           124         76.0          8.0        7.8   \n",
       "\n",
       "  User_Count          Developer Rating  \n",
       "0       22.0  Traveller's Tales   E10+  \n",
       "1       28.0  Traveller's Tales   E10+  \n",
       "2       10.0  Traveller's Tales   E10+  \n",
       "3       <NA>               <NA>   <NA>  \n",
       "4       13.0  Traveller's Tales   E10+  "
      ]
     },
     "execution_count": 3,
     "metadata": {},
     "output_type": "execute_result"
    }
   ],
   "source": [
    "train = cudf.read_feather(\"../input/train.ftr\")\n",
    "train.head()"
   ]
  },
  {
   "cell_type": "code",
   "execution_count": 4,
   "metadata": {
    "scrolled": false
   },
   "outputs": [
    {
     "name": "stderr",
     "output_type": "stream",
     "text": [
      "/home/karunru/.pyenv/versions/miniconda3-4.7.12/envs/rapids-0.16/lib/python3.7/site-packages/cudf/io/feather.py:16: UserWarning: Using CPU via PyArrow to read feather dataset, this may be GPU accelerated in the future\n",
      "  \"Using CPU via PyArrow to read feather dataset, this may \"\n"
     ]
    },
    {
     "data": {
      "text/html": [
       "<div>\n",
       "<style scoped>\n",
       "    .dataframe tbody tr th:only-of-type {\n",
       "        vertical-align: middle;\n",
       "    }\n",
       "\n",
       "    .dataframe tbody tr th {\n",
       "        vertical-align: top;\n",
       "    }\n",
       "\n",
       "    .dataframe thead th {\n",
       "        text-align: right;\n",
       "    }\n",
       "</style>\n",
       "<table border=\"1\" class=\"dataframe\">\n",
       "  <thead>\n",
       "    <tr style=\"text-align: right;\">\n",
       "      <th></th>\n",
       "      <th>Name</th>\n",
       "      <th>Platform</th>\n",
       "      <th>Year_of_Release</th>\n",
       "      <th>Genre</th>\n",
       "      <th>Publisher</th>\n",
       "      <th>Critic_Score</th>\n",
       "      <th>Critic_Count</th>\n",
       "      <th>User_Score</th>\n",
       "      <th>User_Count</th>\n",
       "      <th>Developer</th>\n",
       "      <th>Rating</th>\n",
       "    </tr>\n",
       "  </thead>\n",
       "  <tbody>\n",
       "    <tr>\n",
       "      <th>0</th>\n",
       "      <td>Hitman 2: Silent Assassin</td>\n",
       "      <td>XB</td>\n",
       "      <td>&lt;NA&gt;</td>\n",
       "      <td>Action</td>\n",
       "      <td>Eidos Interactive</td>\n",
       "      <td>84.0</td>\n",
       "      <td>23.0</td>\n",
       "      <td>8</td>\n",
       "      <td>19.0</td>\n",
       "      <td>Io Interactive</td>\n",
       "      <td>M</td>\n",
       "    </tr>\n",
       "    <tr>\n",
       "      <th>1</th>\n",
       "      <td>Legacy of Kain: Soul Reaver</td>\n",
       "      <td>PS</td>\n",
       "      <td>&lt;NA&gt;</td>\n",
       "      <td>Action</td>\n",
       "      <td>Eidos Interactive</td>\n",
       "      <td>91.0</td>\n",
       "      <td>17.0</td>\n",
       "      <td>9</td>\n",
       "      <td>132.0</td>\n",
       "      <td>Crystal Dynamics</td>\n",
       "      <td>T</td>\n",
       "    </tr>\n",
       "    <tr>\n",
       "      <th>2</th>\n",
       "      <td>Metal Gear Solid 2: Substance</td>\n",
       "      <td>XB</td>\n",
       "      <td>&lt;NA&gt;</td>\n",
       "      <td>Action</td>\n",
       "      <td>Konami Digital Entertainment</td>\n",
       "      <td>87.0</td>\n",
       "      <td>28.0</td>\n",
       "      <td>8.5</td>\n",
       "      <td>39.0</td>\n",
       "      <td>KCEJ</td>\n",
       "      <td>M</td>\n",
       "    </tr>\n",
       "    <tr>\n",
       "      <th>3</th>\n",
       "      <td>Silent Hill: Homecoming</td>\n",
       "      <td>X360</td>\n",
       "      <td>&lt;NA&gt;</td>\n",
       "      <td>Action</td>\n",
       "      <td>Konami Digital Entertainment</td>\n",
       "      <td>70.0</td>\n",
       "      <td>54.0</td>\n",
       "      <td>6.9</td>\n",
       "      <td>180.0</td>\n",
       "      <td>Double Helix Games</td>\n",
       "      <td>M</td>\n",
       "    </tr>\n",
       "    <tr>\n",
       "      <th>4</th>\n",
       "      <td>Silent Hill: Homecoming</td>\n",
       "      <td>PS3</td>\n",
       "      <td>&lt;NA&gt;</td>\n",
       "      <td>Action</td>\n",
       "      <td>Konami Digital Entertainment</td>\n",
       "      <td>71.0</td>\n",
       "      <td>41.0</td>\n",
       "      <td>6.9</td>\n",
       "      <td>143.0</td>\n",
       "      <td>Double Helix Games</td>\n",
       "      <td>M</td>\n",
       "    </tr>\n",
       "  </tbody>\n",
       "</table>\n",
       "</div>"
      ],
      "text/plain": [
       "                            Name Platform Year_of_Release   Genre  \\\n",
       "0      Hitman 2: Silent Assassin       XB            <NA>  Action   \n",
       "1    Legacy of Kain: Soul Reaver       PS            <NA>  Action   \n",
       "2  Metal Gear Solid 2: Substance       XB            <NA>  Action   \n",
       "3        Silent Hill: Homecoming     X360            <NA>  Action   \n",
       "4        Silent Hill: Homecoming      PS3            <NA>  Action   \n",
       "\n",
       "                      Publisher  Critic_Score  Critic_Count User_Score  \\\n",
       "0             Eidos Interactive          84.0          23.0          8   \n",
       "1             Eidos Interactive          91.0          17.0          9   \n",
       "2  Konami Digital Entertainment          87.0          28.0        8.5   \n",
       "3  Konami Digital Entertainment          70.0          54.0        6.9   \n",
       "4  Konami Digital Entertainment          71.0          41.0        6.9   \n",
       "\n",
       "   User_Count           Developer Rating  \n",
       "0        19.0      Io Interactive      M  \n",
       "1       132.0    Crystal Dynamics      T  \n",
       "2        39.0                KCEJ      M  \n",
       "3       180.0  Double Helix Games      M  \n",
       "4       143.0  Double Helix Games      M  "
      ]
     },
     "execution_count": 4,
     "metadata": {},
     "output_type": "execute_result"
    }
   ],
   "source": [
    "test = cudf.read_feather(\"../input/test.ftr\")\n",
    "test.head()"
   ]
  },
  {
   "cell_type": "code",
   "execution_count": 7,
   "metadata": {},
   "outputs": [
    {
     "data": {
      "text/plain": [
       "0.6942217968656538"
      ]
     },
     "execution_count": 7,
     "metadata": {},
     "output_type": "execute_result"
    }
   ],
   "source": [
    "(train[\"NA_Sales\"] + train[\"EU_Sales\"] + train[\"JP_Sales\"] + train[\"Other_Sales\"] == train[\"Global_Sales\"]).mean()"
   ]
  },
  {
   "cell_type": "code",
   "execution_count": 59,
   "metadata": {},
   "outputs": [
    {
     "data": {
      "text/plain": [
       "<AxesSubplot:>"
      ]
     },
     "execution_count": 59,
     "metadata": {},
     "output_type": "execute_result"
    },
    {
     "data": {
      "image/png": "[encoded data removed]",
      "text/plain": [
       "<Figure size 432x288 with 1 Axes>"
      ]
     },
     "metadata": {
      "needs_background": "light"
     },
     "output_type": "display_data"
    }
   ],
   "source": [
    "np.log1p(train[\"Global_Sales\"].to_pandas()).hist(bins=100)"
   ]
  },
  {
   "cell_type": "code",
   "execution_count": 10,
   "metadata": {},
   "outputs": [
    {
     "data": {
      "text/plain": [
       "<AxesSubplot:>"
      ]
     },
     "execution_count": 10,
     "metadata": {},
     "output_type": "execute_result"
    },
    {
     "data": {
      "image/png": "[encoded data removed]",
      "text/plain": [
       "<Figure size 432x288 with 1 Axes>"
      ]
     },
     "metadata": {
      "needs_background": "light"
     },
     "output_type": "display_data"
    }
   ],
   "source": [
    "np.log1p(train[\"NA_Sales\"].to_pandas()).hist(bins=100)"
   ]
  },
  {
   "cell_type": "code",
   "execution_count": 11,
   "metadata": {},
   "outputs": [
    {
     "data": {
      "text/plain": [
       "<AxesSubplot:>"
      ]
     },
     "execution_count": 11,
     "metadata": {},
     "output_type": "execute_result"
    },
    {
     "data": {
      "image/png": "[encoded data removed]",
      "text/plain": [
       "<Figure size 432x288 with 1 Axes>"
      ]
     },
     "metadata": {
      "needs_background": "light"
     },
     "output_type": "display_data"
    }
   ],
   "source": [
    "np.log1p(train[\"EU_Sales\"].to_pandas()).hist(bins=100)"
   ]
  },
  {
   "cell_type": "code",
   "execution_count": 12,
   "metadata": {},
   "outputs": [
    {
     "data": {
      "text/plain": [
       "<AxesSubplot:>"
      ]
     },
     "execution_count": 12,
     "metadata": {},
     "output_type": "execute_result"
    },
    {
     "data": {
      "image/png": "[encoded data removed]",
      "text/plain": [
       "<Figure size 432x288 with 1 Axes>"
      ]
     },
     "metadata": {
      "needs_background": "light"
     },
     "output_type": "display_data"
    }
   ],
   "source": [
    "np.log1p(train[\"JP_Sales\"].to_pandas()).hist(bins=100)"
   ]
  },
  {
   "cell_type": "code",
   "execution_count": 13,
   "metadata": {},
   "outputs": [
    {
     "data": {
      "text/plain": [
       "<AxesSubplot:>"
      ]
     },
     "execution_count": 13,
     "metadata": {},
     "output_type": "execute_result"
    },
    {
     "data": {
      "image/png": "[encoded data removed]",
      "text/plain": [
       "<Figure size 432x288 with 1 Axes>"
      ]
     },
     "metadata": {
      "needs_background": "light"
     },
     "output_type": "display_data"
    }
   ],
   "source": [
    "np.log1p(train[\"Other_Sales\"].to_pandas()).hist(bins=100)"
   ]
  },
  {
   "cell_type": "code",
   "execution_count": 17,
   "metadata": {},
   "outputs": [],
   "source": [
    "train[\"Other_Sales_2\"] = train[\"Global_Sales\"] - (train[\"NA_Sales\"] + train[\"EU_Sales\"] + train[\"JP_Sales\"] + train[\"Other_Sales\"])"
   ]
  },
  {
   "cell_type": "code",
   "execution_count": 18,
   "metadata": {},
   "outputs": [
    {
     "data": {
      "text/plain": [
       "count    8359.000000\n",
       "mean        0.034215\n",
       "std         0.572795\n",
       "min        -2.000000\n",
       "25%         0.000000\n",
       "50%         0.000000\n",
       "75%         0.000000\n",
       "max         3.000000\n",
       "Name: Other_Sales_2, dtype: float64"
      ]
     },
     "execution_count": 18,
     "metadata": {},
     "output_type": "execute_result"
    }
   ],
   "source": [
    "train[\"Other_Sales_2\"].describe()"
   ]
  },
  {
   "cell_type": "code",
   "execution_count": 20,
   "metadata": {},
   "outputs": [
    {
     "data": {
      "text/plain": [
       "0.13637994975475534"
      ]
     },
     "execution_count": 20,
     "metadata": {},
     "output_type": "execute_result"
    }
   ],
   "source": [
    "(train[\"Other_Sales_2\"] < 0).mean()"
   ]
  },
  {
   "cell_type": "code",
   "execution_count": null,
   "metadata": {},
   "outputs": [],
   "source": []
  },
  {
   "cell_type": "code",
   "execution_count": 21,
   "metadata": {},
   "outputs": [
    {
     "data": {
      "text/html": [
       "<div>\n",
       "<style scoped>\n",
       "    .dataframe tbody tr th:only-of-type {\n",
       "        vertical-align: middle;\n",
       "    }\n",
       "\n",
       "    .dataframe tbody tr th {\n",
       "        vertical-align: top;\n",
       "    }\n",
       "\n",
       "    .dataframe thead th {\n",
       "        text-align: right;\n",
       "    }\n",
       "</style>\n",
       "<table border=\"1\" class=\"dataframe\">\n",
       "  <thead>\n",
       "    <tr style=\"text-align: right;\">\n",
       "      <th></th>\n",
       "      <th>Name</th>\n",
       "      <th>Platform</th>\n",
       "      <th>Year_of_Release</th>\n",
       "      <th>Genre</th>\n",
       "      <th>Publisher</th>\n",
       "      <th>NA_Sales</th>\n",
       "      <th>EU_Sales</th>\n",
       "      <th>JP_Sales</th>\n",
       "      <th>Other_Sales</th>\n",
       "      <th>Global_Sales</th>\n",
       "      <th>Critic_Score</th>\n",
       "      <th>Critic_Count</th>\n",
       "      <th>User_Score</th>\n",
       "      <th>User_Count</th>\n",
       "      <th>Developer</th>\n",
       "      <th>Rating</th>\n",
       "      <th>Other_Sales_2</th>\n",
       "    </tr>\n",
       "  </thead>\n",
       "  <tbody>\n",
       "    <tr>\n",
       "      <th>0</th>\n",
       "      <td>LEGO Batman: The Videogame</td>\n",
       "      <td>Wii</td>\n",
       "      <td>&lt;NA&gt;</td>\n",
       "      <td>Action</td>\n",
       "      <td>Warner Bros. Interactive Entertainment</td>\n",
       "      <td>180</td>\n",
       "      <td>97</td>\n",
       "      <td>0</td>\n",
       "      <td>28</td>\n",
       "      <td>306</td>\n",
       "      <td>74.0</td>\n",
       "      <td>17.0</td>\n",
       "      <td>7.9</td>\n",
       "      <td>22.0</td>\n",
       "      <td>Traveller's Tales</td>\n",
       "      <td>E10+</td>\n",
       "      <td>1</td>\n",
       "    </tr>\n",
       "    <tr>\n",
       "      <th>1</th>\n",
       "      <td>LEGO Indiana Jones: The Original Adventures</td>\n",
       "      <td>Wii</td>\n",
       "      <td>&lt;NA&gt;</td>\n",
       "      <td>Action</td>\n",
       "      <td>LucasArts</td>\n",
       "      <td>151</td>\n",
       "      <td>61</td>\n",
       "      <td>0</td>\n",
       "      <td>21</td>\n",
       "      <td>234</td>\n",
       "      <td>78.0</td>\n",
       "      <td>22.0</td>\n",
       "      <td>6.6</td>\n",
       "      <td>28.0</td>\n",
       "      <td>Traveller's Tales</td>\n",
       "      <td>E10+</td>\n",
       "      <td>1</td>\n",
       "    </tr>\n",
       "    <tr>\n",
       "      <th>2</th>\n",
       "      <td>LEGO Batman: The Videogame</td>\n",
       "      <td>PSP</td>\n",
       "      <td>&lt;NA&gt;</td>\n",
       "      <td>Action</td>\n",
       "      <td>Warner Bros. Interactive Entertainment</td>\n",
       "      <td>56</td>\n",
       "      <td>44</td>\n",
       "      <td>0</td>\n",
       "      <td>27</td>\n",
       "      <td>128</td>\n",
       "      <td>73.0</td>\n",
       "      <td>5.0</td>\n",
       "      <td>7.4</td>\n",
       "      <td>10.0</td>\n",
       "      <td>Traveller's Tales</td>\n",
       "      <td>E10+</td>\n",
       "      <td>1</td>\n",
       "    </tr>\n",
       "    <tr>\n",
       "      <th>3</th>\n",
       "      <td>Combat</td>\n",
       "      <td>2600</td>\n",
       "      <td>&lt;NA&gt;</td>\n",
       "      <td>Action</td>\n",
       "      <td>Atari</td>\n",
       "      <td>117</td>\n",
       "      <td>7</td>\n",
       "      <td>0</td>\n",
       "      <td>1</td>\n",
       "      <td>125</td>\n",
       "      <td>&lt;NA&gt;</td>\n",
       "      <td>&lt;NA&gt;</td>\n",
       "      <td>&lt;NA&gt;</td>\n",
       "      <td>&lt;NA&gt;</td>\n",
       "      <td>&lt;NA&gt;</td>\n",
       "      <td>&lt;NA&gt;</td>\n",
       "      <td>0</td>\n",
       "    </tr>\n",
       "    <tr>\n",
       "      <th>4</th>\n",
       "      <td>LEGO Harry Potter: Years 5-7</td>\n",
       "      <td>Wii</td>\n",
       "      <td>&lt;NA&gt;</td>\n",
       "      <td>Action</td>\n",
       "      <td>Warner Bros. Interactive Entertainment</td>\n",
       "      <td>69</td>\n",
       "      <td>42</td>\n",
       "      <td>0</td>\n",
       "      <td>12</td>\n",
       "      <td>124</td>\n",
       "      <td>76.0</td>\n",
       "      <td>8.0</td>\n",
       "      <td>7.8</td>\n",
       "      <td>13.0</td>\n",
       "      <td>Traveller's Tales</td>\n",
       "      <td>E10+</td>\n",
       "      <td>1</td>\n",
       "    </tr>\n",
       "  </tbody>\n",
       "</table>\n",
       "</div>"
      ],
      "text/plain": [
       "                                          Name Platform Year_of_Release  \\\n",
       "0                   LEGO Batman: The Videogame      Wii            <NA>   \n",
       "1  LEGO Indiana Jones: The Original Adventures      Wii            <NA>   \n",
       "2                   LEGO Batman: The Videogame      PSP            <NA>   \n",
       "3                                       Combat     2600            <NA>   \n",
       "4                 LEGO Harry Potter: Years 5-7      Wii            <NA>   \n",
       "\n",
       "    Genre                               Publisher  NA_Sales  EU_Sales  \\\n",
       "0  Action  Warner Bros. Interactive Entertainment       180        97   \n",
       "1  Action                               LucasArts       151        61   \n",
       "2  Action  Warner Bros. Interactive Entertainment        56        44   \n",
       "3  Action                                   Atari       117         7   \n",
       "4  Action  Warner Bros. Interactive Entertainment        69        42   \n",
       "\n",
       "   JP_Sales  Other_Sales  Global_Sales Critic_Score Critic_Count User_Score  \\\n",
       "0         0           28           306         74.0         17.0        7.9   \n",
       "1         0           21           234         78.0         22.0        6.6   \n",
       "2         0           27           128         73.0          5.0        7.4   \n",
       "3         0            1           125         <NA>         <NA>       <NA>   \n",
       "4         0           12           124         76.0          8.0        7.8   \n",
       "\n",
       "  User_Count          Developer Rating  Other_Sales_2  \n",
       "0       22.0  Traveller's Tales   E10+              1  \n",
       "1       28.0  Traveller's Tales   E10+              1  \n",
       "2       10.0  Traveller's Tales   E10+              1  \n",
       "3       <NA>               <NA>   <NA>              0  \n",
       "4       13.0  Traveller's Tales   E10+              1  "
      ]
     },
     "execution_count": 21,
     "metadata": {},
     "output_type": "execute_result"
    }
   ],
   "source": [
    "train.head()"
   ]
  },
  {
   "cell_type": "code",
   "execution_count": 22,
   "metadata": {},
   "outputs": [
    {
     "data": {
      "text/plain": [
       "Index(['Name', 'Platform', 'Genre', 'Publisher', 'User_Score', 'Developer',\n",
       "       'Rating'],\n",
       "      dtype='object')"
      ]
     },
     "execution_count": 22,
     "metadata": {},
     "output_type": "execute_result"
    }
   ],
   "source": [
    "train.select_dtypes(\"object\").columns"
   ]
  },
  {
   "cell_type": "code",
   "execution_count": 23,
   "metadata": {},
   "outputs": [
    {
     "data": {
      "text/plain": [
       "0     <NA>\n",
       "1        0\n",
       "2      0.5\n",
       "3      0.6\n",
       "4      0.9\n",
       "      ... \n",
       "84     9.3\n",
       "85     9.4\n",
       "86     9.5\n",
       "87     9.7\n",
       "88     tbd\n",
       "Name: User_Score, Length: 89, dtype: object"
      ]
     },
     "execution_count": 23,
     "metadata": {},
     "output_type": "execute_result"
    }
   ],
   "source": [
    "train[\"User_Score\"].unique()"
   ]
  },
  {
   "cell_type": "code",
   "execution_count": 54,
   "metadata": {},
   "outputs": [
    {
     "data": {
      "text/plain": [
       "0     <NA>\n",
       "1      0.2\n",
       "2      0.3\n",
       "3      0.5\n",
       "4      0.6\n",
       "      ... \n",
       "90     9.3\n",
       "91     9.4\n",
       "92     9.5\n",
       "93     9.6\n",
       "94     tbd\n",
       "Name: User_Score, Length: 95, dtype: object"
      ]
     },
     "execution_count": 54,
     "metadata": {},
     "output_type": "execute_result"
    }
   ],
   "source": [
    "test[\"User_Score\"].unique()"
   ]
  },
  {
   "cell_type": "code",
   "execution_count": 55,
   "metadata": {},
   "outputs": [
    {
     "data": {
      "text/plain": [
       "0     <NA>\n",
       "1        0\n",
       "2      0.5\n",
       "3      0.6\n",
       "4      0.9\n",
       "      ... \n",
       "83     9.2\n",
       "84     9.3\n",
       "85     9.4\n",
       "86     9.5\n",
       "87     9.7\n",
       "Name: User_Score, Length: 88, dtype: object"
      ]
     },
     "execution_count": 55,
     "metadata": {},
     "output_type": "execute_result"
    }
   ],
   "source": [
    "train[\"User_Score\"].replace(to_replace=\"tbd\", value=np.nan)."
   ]
  },
  {
   "cell_type": "code",
   "execution_count": null,
   "metadata": {},
   "outputs": [],
   "source": []
  },
  {
   "cell_type": "code",
   "execution_count": 24,
   "metadata": {},
   "outputs": [],
   "source": [
    "cat_cols = [\n",
    "    'Name',\n",
    "    'Platform',\n",
    "    \"Year_of_Release\",\n",
    "    'Genre',\n",
    "    'Publisher',\n",
    "    'Developer',\n",
    "    'Rating'\n",
    "]"
   ]
  },
  {
   "cell_type": "code",
   "execution_count": 25,
   "metadata": {},
   "outputs": [
    {
     "data": {
      "image/png": "[encoded data removed]",
      "text/plain": [
       "<Figure size 432x288 with 1 Axes>"
      ]
     },
     "metadata": {},
     "output_type": "display_data"
    },
    {
     "data": {
      "image/png": "[encoded data removed]",
      "text/plain": [
       "<Figure size 432x288 with 1 Axes>"
      ]
     },
     "metadata": {},
     "output_type": "display_data"
    },
    {
     "data": {
      "image/png": "[encoded data removed]",
      "text/plain": [
       "<Figure size 432x288 with 1 Axes>"
      ]
     },
     "metadata": {},
     "output_type": "display_data"
    },
    {
     "data": {
      "image/png": "[encoded data removed]",
      "text/plain": [
       "<Figure size 432x288 with 1 Axes>"
      ]
     },
     "metadata": {},
     "output_type": "display_data"
    },
    {
     "data": {
      "image/png": "[encoded data removed]",
      "text/plain": [
       "<Figure size 432x288 with 1 Axes>"
      ]
     },
     "metadata": {},
     "output_type": "display_data"
    },
    {
     "data": {
      "image/png": "[encoded data removed]",
      "text/plain": [
       "<Figure size 432x288 with 1 Axes>"
      ]
     },
     "metadata": {},
     "output_type": "display_data"
    },
    {
     "data": {
      "image/png": "[encoded data removed]",
      "text/plain": [
       "<Figure size 432x288 with 1 Axes>"
      ]
     },
     "metadata": {},
     "output_type": "display_data"
    }
   ],
   "source": [
    "for col in cat_cols:\n",
    "    set_train, set_test = plot_venn2(train, test, col)"
   ]
  },
  {
   "cell_type": "code",
   "execution_count": 27,
   "metadata": {},
   "outputs": [
    {
     "data": {
      "text/plain": [
       "{'2 in 1 Combo Pack: Sonic Heroes / Super Monkey Ball Deluxe',\n",
       " '428: Fuusa Sareta Shibuya de',\n",
       " '4x4 EVO 2',\n",
       " \"A Bug's Life\",\n",
       " 'ATV: Quad Power Racing',\n",
       " 'Agatha Christie: The ABC Murders',\n",
       " 'Alan Wake',\n",
       " 'Alien Hominid',\n",
       " 'Alvin and the Chipmunks',\n",
       " 'Amagami',\n",
       " \"America's Next Top Model\",\n",
       " 'Aquaman: Battle for Atlantis',\n",
       " 'Arcana Heart 3',\n",
       " 'Army Men: RTS',\n",
       " 'Backyard Baseball',\n",
       " 'Backyard NFL Football',\n",
       " 'Balloon Pop',\n",
       " 'Barbie Horse Adventures: Wild Horse Rescue',\n",
       " 'Bejeweled 3',\n",
       " 'Bionicle',\n",
       " 'Blazblue: Continuum Shift Extend',\n",
       " 'Bomberman',\n",
       " 'Bomberman Land',\n",
       " 'Bookworm',\n",
       " 'Breath of Fire II',\n",
       " \"Cabela's Big Game Hunter\",\n",
       " \"Cabela's Big Game Hunter (2008)\",\n",
       " \"Cabela's Dangerous Hunts 2009\",\n",
       " 'Casper',\n",
       " 'Clannad',\n",
       " 'Clash of Elementalists',\n",
       " 'Cocoto Kart Racer',\n",
       " 'College Hoops 2K6',\n",
       " 'Command & Conquer',\n",
       " 'Commando',\n",
       " 'Crazy Taxi',\n",
       " 'Danganronpa 2: Goodbye Despair',\n",
       " 'Danganronpa: Trigger Happy Havoc',\n",
       " 'Darksiders II',\n",
       " 'Dead or Alive 2',\n",
       " 'Dead or Alive 5',\n",
       " 'Deer Drive',\n",
       " 'Defender',\n",
       " 'DiRT 2',\n",
       " 'Dig Dug',\n",
       " 'Digimon World 4',\n",
       " 'Dinotopia: The Sunstone Odyssey',\n",
       " \"Disney's Party\",\n",
       " \"Disney's Treasure Planet\",\n",
       " 'Doom',\n",
       " \"Dragon's Lair 3D: Return to the Lair\",\n",
       " 'Dream Salon',\n",
       " 'Driver: Parallel Lines',\n",
       " 'Drome Racers',\n",
       " 'Dungeon Travelers 2: The Royal Library & The Monster Seal',\n",
       " 'Dynasty Warriors Gundam',\n",
       " 'Dynasty Warriors: Gundam Reborn',\n",
       " 'Dynasty Warriors: Strikeforce',\n",
       " 'Earth Defense Force 2: Invaders from Planet Space',\n",
       " 'Emergency 2012',\n",
       " 'Escape The Museum',\n",
       " 'Farm Frenzy 3',\n",
       " 'Final Fantasy Type-0',\n",
       " 'Final Fantasy XI',\n",
       " 'Ford Racing 3',\n",
       " 'Future Tactics: The Uprising',\n",
       " 'G-Force',\n",
       " 'Gex 3: Deep Cover Gecko',\n",
       " 'Ghost in the Shell: Stand Alone Complex',\n",
       " 'Godzilla: Destroy All Monsters Melee',\n",
       " 'Guilty Gear XX Accent Core',\n",
       " 'Guitar Hero III: Legends of Rock',\n",
       " 'Guitar Hero: World Tour',\n",
       " 'Half-Life 2',\n",
       " 'Hyperdimension Neptunia',\n",
       " 'I-Ninja',\n",
       " 'Ice Hockey',\n",
       " 'Igor: The Game',\n",
       " \"James Cameron's Dark Angel\",\n",
       " 'Jeopardy!',\n",
       " \"JoJo's Bizarre Adventure: All Star Battle\",\n",
       " 'Jurassic Park: Operation Genesis',\n",
       " 'Kill.Switch',\n",
       " 'Knights in the Nightmare',\n",
       " 'LEGO Indiana Jones: The Original Adventures',\n",
       " \"LEGO Legends of Chima: Laval's Journey\",\n",
       " 'LEGO Star Wars II: The Original Trilogy',\n",
       " 'Lode Runner',\n",
       " 'Looney Tunes: Back in Action',\n",
       " 'MLB Power Pros 2008',\n",
       " 'Mafia',\n",
       " 'Majesty 2: The Fantasy Kingdom Sim',\n",
       " 'Major League Baseball 2K6',\n",
       " 'Major League Baseball 2K7',\n",
       " 'Major League Baseball 2K8',\n",
       " 'Major League Baseball 2K9',\n",
       " 'Man vs. Wild',\n",
       " \"Margot's Word Brain\",\n",
       " 'Mario Tennis',\n",
       " 'Marvel Super Heroes',\n",
       " 'Marvel vs. Capcom 2: New Age of Heroes',\n",
       " 'Mass Effect',\n",
       " 'Mega Man X Collection',\n",
       " 'Mega Man X4',\n",
       " \"Merv Griffin's Crosswords\",\n",
       " 'Midnight Club: Street Racing',\n",
       " 'Mojo!',\n",
       " 'Monkey Island: Special Edition Collection',\n",
       " 'Monopoly',\n",
       " 'Monster Hunter Frontier Online',\n",
       " 'Mortal Kombat',\n",
       " 'Mortal Kombat 3',\n",
       " 'MotoGP',\n",
       " 'Myst',\n",
       " 'Neon Genesis Evangelion',\n",
       " 'NickToons: Racing',\n",
       " 'Nickelodeon Party Blast',\n",
       " 'Nicktoons: Battle for Volcano Island',\n",
       " 'Nightmare Creatures',\n",
       " 'Ninja Gaiden Sigma',\n",
       " 'Ninja Gaiden Sigma 2',\n",
       " 'Nitroplus Blasterz: Heroines Infinite Duel',\n",
       " \"No More Heroes: Heroes' Paradise\",\n",
       " 'Nodame Cantabile',\n",
       " 'PDC World Championship Darts 2008',\n",
       " 'Pac-Man',\n",
       " 'Pac-Man Fever',\n",
       " 'Pac-Man World 2',\n",
       " 'Persona 5',\n",
       " 'Phantasy Star Online Episode I & II',\n",
       " \"Piglet's Big Game\",\n",
       " 'Pocket Fighter',\n",
       " 'Portal 2',\n",
       " 'Purr Pals',\n",
       " 'Reader Rabbit Kindergarten',\n",
       " 'Record of Agarest War',\n",
       " 'Record of Agarest War Zero',\n",
       " 'Resident Evil',\n",
       " 'Resident Evil 2',\n",
       " 'Resident Evil 3: Nemesis',\n",
       " 'Resident Evil 4',\n",
       " \"Resident Evil Director's Cut\",\n",
       " 'Rhythm Heaven',\n",
       " 'Ridge Racer',\n",
       " 'Riven: The Sequel to Myst',\n",
       " 'Riviera: The Promised Land',\n",
       " 'Robotech: Battlecry',\n",
       " 'Rock Band',\n",
       " 'Rock Band 2',\n",
       " 'RollerCoaster Tycoon',\n",
       " 'Rooms: The Main Building',\n",
       " 'Sakura Wars: So Long, My Love',\n",
       " 'Samurai Warriors',\n",
       " 'Secret Files: Tunguska',\n",
       " 'Shinseiki Evangelion: Koutetsu no Girlfriend',\n",
       " \"Shonen Jump's One Piece: Grand Battle\",\n",
       " 'SimCity 2000',\n",
       " 'Singularity',\n",
       " 'Six Flags Fun Park',\n",
       " 'Ski-Doo Snowmobile Challenge',\n",
       " 'Smash Court Tennis 3',\n",
       " \"Smuggler's Run\",\n",
       " 'Sniper Elite',\n",
       " 'Sonic the Hedgehog',\n",
       " 'Space Invaders',\n",
       " 'Spider-Man',\n",
       " 'Star Wars Episode III: Revenge of the Sith',\n",
       " 'Star Wars Knights of the Old Republic II: The Sith Lords',\n",
       " 'Star Wars: Battlefront',\n",
       " 'Star Wars: Battlefront II',\n",
       " 'Star Wars: Clone Wars',\n",
       " 'Star Wars: Knights of the Old Republic',\n",
       " 'Star Wars: Republic Commando',\n",
       " 'Starsky & Hutch',\n",
       " 'Steins;Gate',\n",
       " 'Street Fighter Alpha 2',\n",
       " 'Street Fighter Alpha 3',\n",
       " \"Street Fighter Alpha: Warriors' Dreams\",\n",
       " 'Strike Witches: Shirogane no Tsubasa',\n",
       " 'Strikers 1945',\n",
       " 'Summon Night 3',\n",
       " 'Summon Night 4',\n",
       " 'Syberia II',\n",
       " 'Tactics Ogre: Let Us Cling Together',\n",
       " 'Tales of Phantasia',\n",
       " 'Tales of Symphonia',\n",
       " 'Tales of Vesperia',\n",
       " 'Teen Titans',\n",
       " 'Teenage Mutant Ninja Turtles',\n",
       " 'Terraria',\n",
       " 'Test Drive: Ferrari Legends',\n",
       " 'The Elder Scrolls IV: Oblivion',\n",
       " 'The Incredible Hulk',\n",
       " 'The Legend of Heroes VII: The Trail of Blue',\n",
       " 'The Legend of Heroes: Trails in the Sky First Chapter',\n",
       " 'The Legend of Heroes: Trails in the Sky Third Chapter',\n",
       " 'The Simpsons: Road Rage',\n",
       " 'Time Travelers',\n",
       " 'Tom and Jerry in War of the Whiskers',\n",
       " 'WRC: FIA World Rally Championship',\n",
       " 'Wakeboarding Unleashed Featuring Shaun Murray',\n",
       " 'Warriors Orochi 3',\n",
       " 'Wasteland 2',\n",
       " 'Wheel of Fortune',\n",
       " 'Who wants to be a millionaire',\n",
       " 'Winter Sports 2: The Next Challenge',\n",
       " 'Wipeout: The Game',\n",
       " 'World Series of Poker',\n",
       " 'World of Tanks',\n",
       " 'Worms Forts: Under Siege',\n",
       " 'Zoo Hospital'}"
      ]
     },
     "execution_count": 27,
     "metadata": {},
     "output_type": "execute_result"
    }
   ],
   "source": [
    "set(train[\"Name\"].unique().to_pandas()) & set(test[\"Name\"].unique().to_pandas())"
   ]
  },
  {
   "cell_type": "code",
   "execution_count": 28,
   "metadata": {},
   "outputs": [
    {
     "data": {
      "text/plain": [
       "{'GG', 'PCFX', 'SCD'}"
      ]
     },
     "execution_count": 28,
     "metadata": {},
     "output_type": "execute_result"
    }
   ],
   "source": [
    "set(train[\"Platform\"].unique().to_pandas()) - set(test[\"Platform\"].unique().to_pandas())"
   ]
  },
  {
   "cell_type": "code",
   "execution_count": 30,
   "metadata": {},
   "outputs": [
    {
     "data": {
      "text/plain": [
       "0     2600\n",
       "1      3DO\n",
       "2      3DS\n",
       "3       DC\n",
       "4       DS\n",
       "5       GB\n",
       "6      GBA\n",
       "7       GC\n",
       "8      GEN\n",
       "9       GG\n",
       "10     N64\n",
       "11     NES\n",
       "12      NG\n",
       "13      PC\n",
       "14    PCFX\n",
       "15      PS\n",
       "16     PS2\n",
       "17     PS3\n",
       "18     PS4\n",
       "19     PSP\n",
       "20     PSV\n",
       "21     SAT\n",
       "22     SCD\n",
       "23    SNES\n",
       "24    TG16\n",
       "25      WS\n",
       "26     Wii\n",
       "27    WiiU\n",
       "28    X360\n",
       "29      XB\n",
       "30    XOne\n",
       "Name: Platform, dtype: object"
      ]
     },
     "execution_count": 30,
     "metadata": {},
     "output_type": "execute_result"
    }
   ],
   "source": [
    "train[\"Platform\"].unique()"
   ]
  },
  {
   "cell_type": "markdown",
   "metadata": {},
   "source": [
    "[GG](https://ja.wikipedia.org/wiki/%E3%82%B2%E3%83%BC%E3%83%A0%E3%82%AE%E3%82%A2), [PCFX](https://ja.wikipedia.org/wiki/PC-FX), [SCD](https://ja.wikipedia.org/wiki/%E3%83%A1%E3%82%ACCD)"
   ]
  },
  {
   "cell_type": "code",
   "execution_count": 31,
   "metadata": {},
   "outputs": [
    {
     "data": {
      "text/plain": [
       "{nan, 2017.0}"
      ]
     },
     "execution_count": 31,
     "metadata": {},
     "output_type": "execute_result"
    }
   ],
   "source": [
    "set(train[\"Year_of_Release\"].unique().to_pandas()) - set(test[\"Year_of_Release\"].unique().to_pandas())"
   ]
  },
  {
   "cell_type": "code",
   "execution_count": 36,
   "metadata": {},
   "outputs": [
    {
     "data": {
      "text/html": [
       "<div>\n",
       "<style scoped>\n",
       "    .dataframe tbody tr th:only-of-type {\n",
       "        vertical-align: middle;\n",
       "    }\n",
       "\n",
       "    .dataframe tbody tr th {\n",
       "        vertical-align: top;\n",
       "    }\n",
       "\n",
       "    .dataframe thead th {\n",
       "        text-align: right;\n",
       "    }\n",
       "</style>\n",
       "<table border=\"1\" class=\"dataframe\">\n",
       "  <thead>\n",
       "    <tr style=\"text-align: right;\">\n",
       "      <th></th>\n",
       "      <th>Name</th>\n",
       "      <th>Platform</th>\n",
       "      <th>Year_of_Release</th>\n",
       "      <th>Genre</th>\n",
       "      <th>Publisher</th>\n",
       "      <th>NA_Sales</th>\n",
       "      <th>EU_Sales</th>\n",
       "      <th>JP_Sales</th>\n",
       "      <th>Other_Sales</th>\n",
       "      <th>Global_Sales</th>\n",
       "      <th>Critic_Score</th>\n",
       "      <th>Critic_Count</th>\n",
       "      <th>User_Score</th>\n",
       "      <th>User_Count</th>\n",
       "      <th>Developer</th>\n",
       "      <th>Rating</th>\n",
       "      <th>Other_Sales_2</th>\n",
       "    </tr>\n",
       "  </thead>\n",
       "  <tbody>\n",
       "    <tr>\n",
       "      <th>8356</th>\n",
       "      <td>Brothers Conflict: Precious Baby</td>\n",
       "      <td>PSV</td>\n",
       "      <td>2017.0</td>\n",
       "      <td>Action</td>\n",
       "      <td>Idea Factory</td>\n",
       "      <td>0</td>\n",
       "      <td>0</td>\n",
       "      <td>1</td>\n",
       "      <td>0</td>\n",
       "      <td>1</td>\n",
       "      <td>&lt;NA&gt;</td>\n",
       "      <td>&lt;NA&gt;</td>\n",
       "      <td>&lt;NA&gt;</td>\n",
       "      <td>&lt;NA&gt;</td>\n",
       "      <td>&lt;NA&gt;</td>\n",
       "      <td>&lt;NA&gt;</td>\n",
       "      <td>0</td>\n",
       "    </tr>\n",
       "    <tr>\n",
       "      <th>8357</th>\n",
       "      <td>Phantasy Star Online 2 Episode 4: Deluxe Package</td>\n",
       "      <td>PS4</td>\n",
       "      <td>2017.0</td>\n",
       "      <td>Role-Playing</td>\n",
       "      <td>Sega</td>\n",
       "      <td>0</td>\n",
       "      <td>0</td>\n",
       "      <td>4</td>\n",
       "      <td>0</td>\n",
       "      <td>4</td>\n",
       "      <td>&lt;NA&gt;</td>\n",
       "      <td>&lt;NA&gt;</td>\n",
       "      <td>&lt;NA&gt;</td>\n",
       "      <td>&lt;NA&gt;</td>\n",
       "      <td>&lt;NA&gt;</td>\n",
       "      <td>&lt;NA&gt;</td>\n",
       "      <td>0</td>\n",
       "    </tr>\n",
       "    <tr>\n",
       "      <th>8358</th>\n",
       "      <td>Phantasy Star Online 2 Episode 4: Deluxe Package</td>\n",
       "      <td>PSV</td>\n",
       "      <td>2017.0</td>\n",
       "      <td>Role-Playing</td>\n",
       "      <td>Sega</td>\n",
       "      <td>0</td>\n",
       "      <td>0</td>\n",
       "      <td>1</td>\n",
       "      <td>0</td>\n",
       "      <td>1</td>\n",
       "      <td>&lt;NA&gt;</td>\n",
       "      <td>&lt;NA&gt;</td>\n",
       "      <td>&lt;NA&gt;</td>\n",
       "      <td>&lt;NA&gt;</td>\n",
       "      <td>&lt;NA&gt;</td>\n",
       "      <td>&lt;NA&gt;</td>\n",
       "      <td>0</td>\n",
       "    </tr>\n",
       "  </tbody>\n",
       "</table>\n",
       "</div>"
      ],
      "text/plain": [
       "                                                  Name Platform  \\\n",
       "8356                  Brothers Conflict: Precious Baby      PSV   \n",
       "8357  Phantasy Star Online 2 Episode 4: Deluxe Package      PS4   \n",
       "8358  Phantasy Star Online 2 Episode 4: Deluxe Package      PSV   \n",
       "\n",
       "      Year_of_Release         Genre     Publisher  NA_Sales  EU_Sales  \\\n",
       "8356           2017.0        Action  Idea Factory         0         0   \n",
       "8357           2017.0  Role-Playing          Sega         0         0   \n",
       "8358           2017.0  Role-Playing          Sega         0         0   \n",
       "\n",
       "      JP_Sales  Other_Sales  Global_Sales Critic_Score Critic_Count  \\\n",
       "8356         1            0             1         <NA>         <NA>   \n",
       "8357         4            0             4         <NA>         <NA>   \n",
       "8358         1            0             1         <NA>         <NA>   \n",
       "\n",
       "     User_Score User_Count Developer Rating  Other_Sales_2  \n",
       "8356       <NA>       <NA>      <NA>   <NA>              0  \n",
       "8357       <NA>       <NA>      <NA>   <NA>              0  \n",
       "8358       <NA>       <NA>      <NA>   <NA>              0  "
      ]
     },
     "execution_count": 36,
     "metadata": {},
     "output_type": "execute_result"
    }
   ],
   "source": [
    "train.query(\"Year_of_Release == 2017.0\")"
   ]
  },
  {
   "cell_type": "code",
   "execution_count": 32,
   "metadata": {},
   "outputs": [
    {
     "data": {
      "text/plain": [
       "{nan, 2020.0}"
      ]
     },
     "execution_count": 32,
     "metadata": {},
     "output_type": "execute_result"
    }
   ],
   "source": [
    "set(test[\"Year_of_Release\"].unique().to_pandas()) - set(train[\"Year_of_Release\"].unique().to_pandas())"
   ]
  },
  {
   "cell_type": "code",
   "execution_count": 35,
   "metadata": {},
   "outputs": [
    {
     "data": {
      "text/html": [
       "<div>\n",
       "<style scoped>\n",
       "    .dataframe tbody tr th:only-of-type {\n",
       "        vertical-align: middle;\n",
       "    }\n",
       "\n",
       "    .dataframe tbody tr th {\n",
       "        vertical-align: top;\n",
       "    }\n",
       "\n",
       "    .dataframe thead th {\n",
       "        text-align: right;\n",
       "    }\n",
       "</style>\n",
       "<table border=\"1\" class=\"dataframe\">\n",
       "  <thead>\n",
       "    <tr style=\"text-align: right;\">\n",
       "      <th></th>\n",
       "      <th>Name</th>\n",
       "      <th>Platform</th>\n",
       "      <th>Year_of_Release</th>\n",
       "      <th>Genre</th>\n",
       "      <th>Publisher</th>\n",
       "      <th>Critic_Score</th>\n",
       "      <th>Critic_Count</th>\n",
       "      <th>User_Score</th>\n",
       "      <th>User_Count</th>\n",
       "      <th>Developer</th>\n",
       "      <th>Rating</th>\n",
       "    </tr>\n",
       "  </thead>\n",
       "  <tbody>\n",
       "    <tr>\n",
       "      <th>8359</th>\n",
       "      <td>Imagine: Makeup Artist</td>\n",
       "      <td>DS</td>\n",
       "      <td>2020.0</td>\n",
       "      <td>Simulation</td>\n",
       "      <td>Ubisoft</td>\n",
       "      <td>&lt;NA&gt;</td>\n",
       "      <td>&lt;NA&gt;</td>\n",
       "      <td>tbd</td>\n",
       "      <td>&lt;NA&gt;</td>\n",
       "      <td>Ubisoft</td>\n",
       "      <td>E</td>\n",
       "    </tr>\n",
       "  </tbody>\n",
       "</table>\n",
       "</div>"
      ],
      "text/plain": [
       "                        Name Platform  Year_of_Release       Genre Publisher  \\\n",
       "8359  Imagine: Makeup Artist       DS           2020.0  Simulation   Ubisoft   \n",
       "\n",
       "     Critic_Score Critic_Count User_Score User_Count Developer Rating  \n",
       "8359         <NA>         <NA>        tbd       <NA>   Ubisoft      E  "
      ]
     },
     "execution_count": 35,
     "metadata": {},
     "output_type": "execute_result"
    }
   ],
   "source": [
    "test.query(\"Year_of_Release == 2020.0\")"
   ]
  },
  {
   "cell_type": "code",
   "execution_count": 53,
   "metadata": {},
   "outputs": [
    {
     "data": {
      "text/plain": [
       "2017.0"
      ]
     },
     "execution_count": 53,
     "metadata": {},
     "output_type": "execute_result"
    }
   ],
   "source": [
    "train[\"Year_of_Release\"].max()"
   ]
  },
  {
   "cell_type": "code",
   "execution_count": 57,
   "metadata": {},
   "outputs": [
    {
     "data": {
      "text/plain": [
       "2017.0"
      ]
     },
     "execution_count": 57,
     "metadata": {},
     "output_type": "execute_result"
    }
   ],
   "source": [
    "test[\"Year_of_Release\"].replace(to_replace=2020.0, value=2017.0).max()"
   ]
  },
  {
   "cell_type": "code",
   "execution_count": null,
   "metadata": {},
   "outputs": [],
   "source": []
  },
  {
   "cell_type": "code",
   "execution_count": null,
   "metadata": {},
   "outputs": [],
   "source": []
  },
  {
   "cell_type": "code",
   "execution_count": 33,
   "metadata": {},
   "outputs": [
    {
     "data": {
      "text/plain": [
       "{None}"
      ]
     },
     "execution_count": 33,
     "metadata": {},
     "output_type": "execute_result"
    }
   ],
   "source": [
    "set(test[\"Genre\"].unique().to_pandas()) - set(train[\"Genre\"].unique().to_pandas())"
   ]
  },
  {
   "cell_type": "code",
   "execution_count": 41,
   "metadata": {},
   "outputs": [
    {
     "data": {
      "text/plain": [
       "0           Action\n",
       "1        Adventure\n",
       "2         Fighting\n",
       "3             Misc\n",
       "4         Platform\n",
       "5           Puzzle\n",
       "6           Racing\n",
       "7     Role-Playing\n",
       "8          Shooter\n",
       "9       Simulation\n",
       "10          Sports\n",
       "11        Strategy\n",
       "Name: Genre, dtype: object"
      ]
     },
     "execution_count": 41,
     "metadata": {},
     "output_type": "execute_result"
    }
   ],
   "source": [
    "train[\"Genre\"].unique()"
   ]
  },
  {
   "cell_type": "code",
   "execution_count": 34,
   "metadata": {},
   "outputs": [
    {
     "data": {
      "text/plain": [
       "{'AO', 'EC'}"
      ]
     },
     "execution_count": 34,
     "metadata": {},
     "output_type": "execute_result"
    }
   ],
   "source": [
    "set(train[\"Rating\"].unique().to_pandas()) - set(test[\"Rating\"].unique().to_pandas())"
   ]
  },
  {
   "cell_type": "code",
   "execution_count": 42,
   "metadata": {},
   "outputs": [
    {
     "data": {
      "text/plain": [
       "0    <NA>\n",
       "1      AO\n",
       "2       E\n",
       "3    E10+\n",
       "4      EC\n",
       "5     K-A\n",
       "6       M\n",
       "7      RP\n",
       "8       T\n",
       "Name: Rating, dtype: object"
      ]
     },
     "execution_count": 42,
     "metadata": {},
     "output_type": "execute_result"
    }
   ],
   "source": [
    "train[\"Rating\"].unique()"
   ]
  },
  {
   "cell_type": "code",
   "execution_count": 44,
   "metadata": {},
   "outputs": [
    {
     "data": {
      "text/plain": [
       "E       1880\n",
       "T       1404\n",
       "M        772\n",
       "E10+     731\n",
       "EC         8\n",
       "AO         1\n",
       "K-A        1\n",
       "RP         1\n",
       "Name: Rating, dtype: int32"
      ]
     },
     "execution_count": 44,
     "metadata": {},
     "output_type": "execute_result"
    }
   ],
   "source": [
    "train[\"Rating\"].value_counts()"
   ]
  },
  {
   "cell_type": "code",
   "execution_count": 45,
   "metadata": {},
   "outputs": [
    {
     "data": {
      "text/plain": [
       "E       2111\n",
       "T       1557\n",
       "M        791\n",
       "E10+     689\n",
       "K-A        2\n",
       "RP         2\n",
       "Name: Rating, dtype: int32"
      ]
     },
     "execution_count": 45,
     "metadata": {},
     "output_type": "execute_result"
    }
   ],
   "source": [
    "test[\"Rating\"].value_counts()"
   ]
  },
  {
   "cell_type": "code",
   "execution_count": 47,
   "metadata": {},
   "outputs": [
    {
     "data": {
      "text/plain": [
       "3561"
      ]
     },
     "execution_count": 47,
     "metadata": {},
     "output_type": "execute_result"
    }
   ],
   "source": [
    "train[\"Rating\"].isna().sum()"
   ]
  },
  {
   "cell_type": "code",
   "execution_count": 48,
   "metadata": {},
   "outputs": [
    {
     "data": {
      "text/plain": [
       "3208"
      ]
     },
     "execution_count": 48,
     "metadata": {},
     "output_type": "execute_result"
    }
   ],
   "source": [
    "test[\"Rating\"].isna().sum()"
   ]
  },
  {
   "cell_type": "code",
   "execution_count": 51,
   "metadata": {},
   "outputs": [],
   "source": [
    "rating_dict = {\n",
    "    \"RP\": 0,\n",
    "    \"EC\": 1,\n",
    "    \"K-A\": 2,\n",
    "    \"E\": 2,\n",
    "    \"E10+\": 3,\n",
    "    \"T\": 4,\n",
    "    \"M\": 5,\n",
    "    \"AO\": 5,\n",
    "}\n",
    "train[\"Rating\"] = train[\"Rating\"].replace(rating_dict).astype(int)"
   ]
  },
  {
   "cell_type": "code",
   "execution_count": 52,
   "metadata": {},
   "outputs": [
    {
     "data": {
      "text/plain": [
       "0          3\n",
       "1          3\n",
       "2          3\n",
       "3       <NA>\n",
       "4          3\n",
       "        ... \n",
       "8354    <NA>\n",
       "8355    <NA>\n",
       "8356    <NA>\n",
       "8357    <NA>\n",
       "8358    <NA>\n",
       "Name: Rating, Length: 8359, dtype: int64"
      ]
     },
     "execution_count": 52,
     "metadata": {},
     "output_type": "execute_result"
    }
   ],
   "source": [
    "train[\"Rating\"]"
   ]
  },
  {
   "cell_type": "code",
   "execution_count": 58,
   "metadata": {},
   "outputs": [
    {
     "data": {
      "text/plain": [
       "14"
      ]
     },
     "execution_count": 58,
     "metadata": {},
     "output_type": "execute_result"
    }
   ],
   "source": [
    "np.int(1 + np.log2(len(train)))"
   ]
  },
  {
   "cell_type": "code",
   "execution_count": 60,
   "metadata": {},
   "outputs": [
    {
     "data": {
      "text/plain": [
       "<AxesSubplot:>"
      ]
     },
     "execution_count": 60,
     "metadata": {},
     "output_type": "execute_result"
    },
    {
     "data": {
      "image/png": "[encoded data removed]",
      "text/plain": [
       "<Figure size 432x288 with 1 Axes>"
      ]
     },
     "metadata": {
      "needs_background": "light"
     },
     "output_type": "display_data"
    }
   ],
   "source": [
    "np.log1p(train[\"Global_Sales\"].to_pandas()).hist(bins=5)"
   ]
  },
  {
   "cell_type": "code",
   "execution_count": 61,
   "metadata": {},
   "outputs": [
    {
     "data": {
      "text/plain": [
       "<AxesSubplot:>"
      ]
     },
     "execution_count": 61,
     "metadata": {},
     "output_type": "execute_result"
    },
    {
     "data": {
      "image/png": "[encoded data removed]",
      "text/plain": [
       "<Figure size 432x288 with 1 Axes>"
      ]
     },
     "metadata": {
      "needs_background": "light"
     },
     "output_type": "display_data"
    }
   ],
   "source": [
    "np.log1p(train[\"Global_Sales\"].to_pandas()).hist(bins=14)"
   ]
  },
  {
   "cell_type": "code",
   "execution_count": 65,
   "metadata": {},
   "outputs": [
    {
     "data": {
      "text/plain": [
       "0.10    1.098612\n",
       "0.25    1.945910\n",
       "0.50    2.944439\n",
       "0.75    3.951244\n",
       "0.90    4.943066\n",
       "Name: Global_Sales, dtype: float64"
      ]
     },
     "execution_count": 65,
     "metadata": {},
     "output_type": "execute_result"
    }
   ],
   "source": [
    "np.log1p(train[\"Global_Sales\"].to_pandas()).quantile([0.1, 0.25, 0.5, 0.75, 0.9])"
   ]
  },
  {
   "cell_type": "code",
   "execution_count": 71,
   "metadata": {},
   "outputs": [
    {
     "data": {
      "text/plain": [
       "<AxesSubplot:>"
      ]
     },
     "execution_count": 71,
     "metadata": {},
     "output_type": "execute_result"
    },
    {
     "data": {
      "image/png": "[encoded data removed]",
      "text/plain": [
       "<Figure size 432x288 with 1 Axes>"
      ]
     },
     "metadata": {
      "needs_background": "light"
     },
     "output_type": "display_data"
    }
   ],
   "source": [
    "pd.qcut(np.log1p(train[\"Global_Sales\"].to_pandas()), q=[0.0, 0.1, 0.25, 0.5, 0.75, 0.9, 1.0], labels=False).hist(bins=6)"
   ]
  },
  {
   "cell_type": "code",
   "execution_count": null,
   "metadata": {},
   "outputs": [],
   "source": []
  }
 ],
 "metadata": {
  "kernelspec": {
   "display_name": "Python 3",
   "language": "python",
   "name": "python3"
  },
  "language_info": {
   "codemirror_mode": {
    "name": "ipython",
    "version": 3
   },
   "file_extension": ".py",
   "mimetype": "text/x-python",
   "name": "python",
   "nbconvert_exporter": "python",
   "pygments_lexer": "ipython3",
   "version": "3.7.8"
  }
 },
 "nbformat": 4,
 "nbformat_minor": 4
}
