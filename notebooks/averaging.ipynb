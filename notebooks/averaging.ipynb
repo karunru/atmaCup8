{
 "cells": [
  {
   "cell_type": "code",
   "execution_count": 1,
   "metadata": {},
   "outputs": [],
   "source": [
    "import numpy as np\n",
    "import pandas as pd\n",
    "import cudf"
   ]
  },
  {
   "cell_type": "code",
   "execution_count": 6,
   "metadata": {},
   "outputs": [],
   "source": [
    "from typing import Union\n",
    "\n",
    "import numpy as np\n",
    "from sklearn.metrics import average_precision_score, mean_squared_error\n",
    "\n",
    "def rmse(y_true: Union[np.ndarray, list], y_pred: Union[np.ndarray, list]) -> float:\n",
    "    return np.sqrt(mean_squared_error(y_true, y_pred))\n",
    "\n",
    "\n",
    "def rmsle(y_true: Union[np.ndarray, list], y_pred: Union[np.ndarray, list]) -> float:\n",
    "    return rmse(np.log1p(y_true), np.log1p(y_pred))"
   ]
  },
  {
   "cell_type": "code",
   "execution_count": 7,
   "metadata": {},
   "outputs": [],
   "source": [
    "y = pd.read_feather(\"../input/train.ftr\")[\"Global_Sales\"]"
   ]
  },
  {
   "cell_type": "code",
   "execution_count": 2,
   "metadata": {},
   "outputs": [],
   "source": [
    "preds = [\n",
    "    \"036_use_top_10_seed_average/seed_054\",\n",
    "    \"034_seed_average_033/seed_028\",\n",
    "    \"029_seed_average_028\",\n",
    "    \"032_groupby_concat_category\",\n",
    "    \"033_add_log_user_count\",\n",
    "    \"034_seed_average_033\",\n",
    "    \"035_use_top_k\",\n",
    "    \"036_use_top_10_seed_average\",\n",
    "    \"037_use_top_10_seed_average_lgb\",\n",
    "    \"039_top_10_pct_catboost\",\n",
    "    \"040_add_target_encoding\",\n",
    "]"
   ]
  },
  {
   "cell_type": "code",
   "execution_count": 4,
   "metadata": {},
   "outputs": [],
   "source": [
    "oof_preds = []\n",
    "test_preds = []\n",
    "for pred in preds:\n",
    "    oof_preds.append(np.load(\"../output/\" + pred + \"/oof_preds.npy\"))\n",
    "    test_preds.append(np.load(\"../output/\" + pred + \"/test_preds.npy\"))"
   ]
  },
  {
   "cell_type": "code",
   "execution_count": 5,
   "metadata": {},
   "outputs": [
    {
     "data": {
      "text/plain": [
       "[array([83.30832943, 94.20234028, 35.19430399, ...,  3.22761848,\n",
       "        49.31173758, 25.47016217]),\n",
       " array([72.85822583, 66.28794095, 30.09998884, ...,  3.3797114 ,\n",
       "        29.77360796, 17.9052972 ]),\n",
       " array([69.64361568, 48.65784512, 30.87715422, ...,  3.1749756 ,\n",
       "        33.08355857, 16.61607236]),\n",
       " array([87.73656149, 70.64878519, 28.58280271, ...,  4.43685726,\n",
       "        30.09384998, 19.21847527]),\n",
       " array([75.98714194, 69.83620602, 28.10197318, ...,  3.91097095,\n",
       "        26.6372438 , 14.61794349]),\n",
       " array([75.12870223, 70.55133108, 31.66654234, ...,  3.49608182,\n",
       "        31.01063194, 18.15212116]),\n",
       " array([80.63455775, 80.82278889, 39.75217772, ...,  3.846907  ,\n",
       "        59.73462581, 26.13773016]),\n",
       " array([76.96882666, 88.31871114, 38.37555905, ...,  3.51716766,\n",
       "        62.04136763, 28.05525878]),\n",
       " array([75.26190313, 80.94229107, 42.84801839, ...,  3.57385527,\n",
       "        69.83639512, 29.98570445]),\n",
       " array([54.13784431, 73.48650995, 37.99800678, ...,  3.09834642,\n",
       "        34.2165687 , 23.56795917]),\n",
       " array([54.90751495, 55.97785141, 20.87451761, ...,  3.16943837,\n",
       "        10.99212933,  6.77716446])]"
      ]
     },
     "execution_count": 5,
     "metadata": {},
     "output_type": "execute_result"
    }
   ],
   "source": [
    "oof_preds"
   ]
  },
  {
   "cell_type": "code",
   "execution_count": 9,
   "metadata": {},
   "outputs": [
    {
     "data": {
      "text/plain": [
       "0.9981296734217027"
      ]
     },
     "execution_count": 9,
     "metadata": {},
     "output_type": "execute_result"
    }
   ],
   "source": [
    "rmsle(y, np.mean(oof_preds, axis=0))"
   ]
  },
  {
   "cell_type": "code",
   "execution_count": 8,
   "metadata": {},
   "outputs": [],
   "source": [
    "sample_submission = pd.read_csv(\"../input/sample_submission.csv\")"
   ]
  },
  {
   "cell_type": "code",
   "execution_count": 10,
   "metadata": {},
   "outputs": [],
   "source": [
    "def loss_func(weights):\n",
    "    ''' scipy minimize will pass the weights as a numpy array '''\n",
    "    final_prediction = 0\n",
    "    for weight, oof_pred in zip(weights, oof_preds):\n",
    "            final_prediction += weight*oof_pred\n",
    "\n",
    "    return rmsle(y, final_prediction)"
   ]
  },
  {
   "cell_type": "code",
   "execution_count": 11,
   "metadata": {},
   "outputs": [],
   "source": [
    "starting_values = [0.5]*len(oof_preds)"
   ]
  },
  {
   "cell_type": "code",
   "execution_count": 12,
   "metadata": {},
   "outputs": [],
   "source": [
    "cons = ({'type':'eq','fun':lambda w: 1-sum(w)})"
   ]
  },
  {
   "cell_type": "code",
   "execution_count": 13,
   "metadata": {},
   "outputs": [],
   "source": [
    "from scipy.optimize import minimize"
   ]
  },
  {
   "cell_type": "code",
   "execution_count": 14,
   "metadata": {},
   "outputs": [],
   "source": [
    "bounds = [(0,1)]*len(oof_preds)"
   ]
  },
  {
   "cell_type": "code",
   "execution_count": 15,
   "metadata": {},
   "outputs": [],
   "source": [
    "res = minimize(loss_func, starting_values, method='SLSQP', bounds=bounds, constraints=cons)"
   ]
  },
  {
   "cell_type": "code",
   "execution_count": 16,
   "metadata": {},
   "outputs": [
    {
     "data": {
      "text/plain": [
       "0.9910061058704241"
      ]
     },
     "execution_count": 16,
     "metadata": {},
     "output_type": "execute_result"
    }
   ],
   "source": [
    "res[\"fun\"]"
   ]
  },
  {
   "cell_type": "code",
   "execution_count": 17,
   "metadata": {},
   "outputs": [
    {
     "data": {
      "text/plain": [
       "<AxesSubplot:>"
      ]
     },
     "execution_count": 17,
     "metadata": {},
     "output_type": "execute_result"
    },
    {
     "data": {
      "image/png": "[encoded data removed]",
      "text/plain": [
       "<Figure size 432x288 with 1 Axes>"
      ]
     },
     "metadata": {
      "needs_background": "light"
     },
     "output_type": "display_data"
    }
   ],
   "source": [
    "pd.Series(res[\"x\"]).plot.bar()"
   ]
  },
  {
   "cell_type": "code",
   "execution_count": 18,
   "metadata": {},
   "outputs": [],
   "source": [
    "final_prediction = 0\n",
    "for weight, test_pred in zip(res[\"x\"], test_preds):\n",
    "        final_prediction += weight*test_pred"
   ]
  },
  {
   "cell_type": "code",
   "execution_count": 19,
   "metadata": {},
   "outputs": [],
   "source": [
    "sample_submission[\"Global_Sales\"]=final_prediction"
   ]
  },
  {
   "cell_type": "code",
   "execution_count": 20,
   "metadata": {},
   "outputs": [],
   "source": [
    "sample_submission.to_csv(\"../output/slsqp_weight_average_submission_1.csv\", index=False)"
   ]
  },
  {
   "cell_type": "code",
   "execution_count": null,
   "metadata": {},
   "outputs": [],
   "source": []
  }
 ],
 "metadata": {
  "kernelspec": {
   "display_name": "Python 3",
   "language": "python",
   "name": "python3"
  },
  "language_info": {
   "codemirror_mode": {
    "name": "ipython",
    "version": 3
   },
   "file_extension": ".py",
   "mimetype": "text/x-python",
   "name": "python",
   "nbconvert_exporter": "python",
   "pygments_lexer": "ipython3",
   "version": "3.7.8"
  }
 },
 "nbformat": 4,
 "nbformat_minor": 4
}
